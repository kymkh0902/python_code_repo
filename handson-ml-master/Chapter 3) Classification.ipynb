{
 "cells": [
  {
   "cell_type": "markdown",
   "metadata": {
    "nbpresent": {
     "id": "f39d7ee3-9ffe-452a-9b6a-af65bb4d71b7"
    }
   },
   "source": [
    "# Chapter 3. Classification \n",
    "\n",
    "## Setting"
   ]
  },
  {
   "cell_type": "code",
   "execution_count": 1,
   "metadata": {
    "collapsed": false,
    "nbpresent": {
     "id": "74af2311-7148-4116-8447-84545d9bb21d"
    }
   },
   "outputs": [],
   "source": [
    "# To support both python 2 and python 3\n",
    "from __future__ import division, print_function, unicode_literals\n",
    "\n",
    "# Common imports\n",
    "import numpy as np\n",
    "import numpy.random as rnd\n",
    "import os\n",
    "\n",
    "# to make this notebook's output stable across runs\n",
    "rnd.seed(42)\n",
    "\n",
    "# To plot pretty figures\n",
    "%matplotlib inline\n",
    "import matplotlib\n",
    "import matplotlib.pyplot as plt\n",
    "plt.rcParams['axes.labelsize'] = 14\n",
    "plt.rcParams['xtick.labelsize'] = 12\n",
    "plt.rcParams['ytick.labelsize'] = 12\n",
    "\n",
    "# Where to save the figures\n",
    "PROJECT_ROOT_DIR = \".\"\n",
    "CHAPTER_ID = \"classification\"\n",
    "\n",
    "def save_fig(fig_id, tight_layout=True):\n",
    "    path = os.path.join(PROJECT_ROOT_DIR, \"images\", CHAPTER_ID, fig_id + \".png\")\n",
    "    print(\"Saving figure\", fig_id)\n",
    "    if tight_layout:\n",
    "        plt.tight_layout()\n",
    "    plt.savefig(path, format='png', dpi=300)"
   ]
  },
  {
   "cell_type": "markdown",
   "metadata": {
    "nbpresent": {
     "id": "85eea110-f3fa-43b6-994e-923d15b001c6"
    }
   },
   "source": [
    "## MNIST DATA DOWNLOAD"
   ]
  },
  {
   "cell_type": "code",
   "execution_count": 3,
   "metadata": {
    "collapsed": false,
    "nbpresent": {
     "id": "f953f095-4876-4023-bad4-b3c003150189"
    }
   },
   "outputs": [
    {
     "name": "stdout",
     "output_type": "stream",
     "text": [
      "Could not download MNIST data from mldata.org, trying alternative...\n",
      "Success!\n"
     ]
    }
   ],
   "source": [
    "from six.moves import urllib\n",
    "from sklearn.datasets import fetch_mldata\n",
    "try:\n",
    "    mnist = fetch_mldata('MNIST original')\n",
    "except urllib.error.HTTPError as ex:\n",
    "    print(\"Could not download MNIST data from mldata.org, trying alternative...\")\n",
    "\n",
    "    # Alternative method to load MNIST, if mldata.org is down\n",
    "    from scipy.io import loadmat\n",
    "    mnist_alternative_url = \"https://github.com/amplab/datascience-sp14/raw/master/lab7/mldata/mnist-original.mat\"\n",
    "    mnist_path = \"./mnist-original.mat\"\n",
    "    response = urllib.request.urlopen(mnist_alternative_url)\n",
    "    with open(mnist_path, \"wb\") as f:\n",
    "        content = response.read()\n",
    "        f.write(content)\n",
    "    mnist_raw = loadmat(mnist_path)\n",
    "    mnist = {\n",
    "        \"data\": mnist_raw[\"data\"].T,\n",
    "        \"target\": mnist_raw[\"label\"][0],\n",
    "        \"COL_NAMES\": [\"label\", \"data\"],\n",
    "        \"DESCR\": \"mldata.org dataset: mnist-original\",\n",
    "    }\n",
    "    print(\"Success!\")"
   ]
  },
  {
   "cell_type": "code",
   "execution_count": 4,
   "metadata": {
    "collapsed": false,
    "nbpresent": {
     "id": "931d96c6-682d-4894-970f-62a9319b9448"
    }
   },
   "outputs": [],
   "source": [
    "mnist\n",
    "X = mnist['data']\n",
    "y = mnist['target']"
   ]
  },
  {
   "cell_type": "code",
   "execution_count": 5,
   "metadata": {
    "collapsed": false,
    "nbpresent": {
     "id": "a8c689e3-b57c-47d3-b501-920d1dfe8d67"
    }
   },
   "outputs": [],
   "source": [
    "X_train, X_test, y_train, y_test = X[:60000], X[60000:], y[:60000], y[60000:]"
   ]
  },
  {
   "cell_type": "code",
   "execution_count": 6,
   "metadata": {
    "collapsed": true,
    "nbpresent": {
     "id": "fb813263-9756-4ce1-a872-598b4d9362a9"
    }
   },
   "outputs": [],
   "source": [
    "import numpy as np\n",
    "\n",
    "shuffle_index = np.random.permutation(60000)\n",
    "X_train, y_train = X_train[shuffle_index], y_train[shuffle_index]"
   ]
  },
  {
   "cell_type": "code",
   "execution_count": 7,
   "metadata": {
    "collapsed": false,
    "nbpresent": {
     "id": "67b89bbf-578c-4678-9ab3-1e71a54edf23"
    }
   },
   "outputs": [
    {
     "data": {
      "text/plain": [
       "SGDClassifier(alpha=0.0001, average=False, class_weight=None, epsilon=0.1,\n",
       "       eta0=0.0, fit_intercept=True, l1_ratio=0.15,\n",
       "       learning_rate='optimal', loss='hinge', n_iter=5, n_jobs=1,\n",
       "       penalty='l2', power_t=0.5, random_state=42, shuffle=True, verbose=0,\n",
       "       warm_start=False)"
      ]
     },
     "execution_count": 7,
     "metadata": {},
     "output_type": "execute_result"
    }
   ],
   "source": [
    "#Binary Classifier 만들어보자 \n",
    "y_train_5 = (y_train == 5) #Boolean 으로 만든거\n",
    "y_test_5 = (y_test == 5)\n",
    "\n",
    "from sklearn.linear_model import SGDClassifier\n",
    "\n",
    "sgd_clf = SGDClassifier(random_state = 42)\n",
    "sgd_clf.fit(X_train, y_train_5)"
   ]
  },
  {
   "cell_type": "code",
   "execution_count": 8,
   "metadata": {
    "collapsed": false,
    "nbpresent": {
     "id": "ceb6954e-ed8c-4c8f-81b8-ec07a30e1644"
    }
   },
   "outputs": [
    {
     "data": {
      "text/plain": [
       "array([False], dtype=bool)"
      ]
     },
     "execution_count": 8,
     "metadata": {},
     "output_type": "execute_result"
    }
   ],
   "source": [
    "sgd_clf.predict([X_train[1000]])"
   ]
  },
  {
   "cell_type": "markdown",
   "metadata": {
    "nbpresent": {
     "id": "97f16b46-be0e-4493-b171-7de8f5ac598f"
    }
   },
   "source": [
    "## Mearsuring Accurcy using CV"
   ]
  },
  {
   "cell_type": "code",
   "execution_count": 9,
   "metadata": {
    "collapsed": false,
    "nbpresent": {
     "id": "67849156-7010-4319-b709-f2b9ff835182"
    }
   },
   "outputs": [
    {
     "name": "stdout",
     "output_type": "stream",
     "text": [
      "0.9502\n",
      "0.96565\n",
      "0.96495\n"
     ]
    }
   ],
   "source": [
    "from sklearn.model_selection import StratifiedKFold\n",
    "from sklearn.base import clone\n",
    "\n",
    "skfolds = StratifiedKFold(n_splits = 3, random_state = 42)\n",
    "\n",
    "for train_index, test_index in skfolds.split(X_train, y_train_5): # True, False 갯수로 나누겠네\n",
    "        clone_clf = clone(sgd_clf)\n",
    "        X_train_folds = X_train[train_index]\n",
    "        y_train_folds = y_train_5[train_index]\n",
    "        X_test_fold = X_train[test_index]\n",
    "        y_test_fold = y_train_5[test_index]\n",
    "        \n",
    "        clone_clf.fit(X_train_folds, y_train_folds)\n",
    "        y_pred = clone_clf.predict(X_test_fold)\n",
    "        n_correct = sum(y_pred == y_test_fold)\n",
    "        print(n_correct / len(y_pred))\n",
    "        \n",
    "# Cross_val_score 함수 쓰는게 훨 편리하네 \n",
    "\n",
    "from sklearn.model_selection import cross_val_score\n",
    "cross_val_score = cross_val_score(sgd_clf,X_train, y_train_5, scoring = 'accuracy', cv = 3)"
   ]
  },
  {
   "cell_type": "markdown",
   "metadata": {
    "nbpresent": {
     "id": "36aa8690-34b5-436e-b402-888bdce9335b"
    }
   },
   "source": [
    "### Cross_val로 정답 확률 구하는 것도 좋지만, 한 쪽으로 class가 치우쳐져 있는 경우가 많아서 \n",
    "### 이걸로 잘 예측하고 있는 건지 확인하기 어렵다. 그래서 precision이 필요하다. \n",
    "* Cross_val_predict : cv = n 으로 나누어서 각각 cv에 대해서 예측한 값 전부 합쳐놓은게 y_train_pred 이다. \n",
    "* Precision : TP/(TP + FP) FP : 원래 False인데 True로 잘못  -> a로 예측한 것 중에 진짜 a 비율\n",
    "* Recall : TP/ (TP + FN) FN : 원래 True인데 False로 잘못 -> 진짜 a 중에 a로 예측한 것 비율\n",
    "* F1 Score = 1/(1/precision + 1/recall)) \n",
    " * Precision / Recall tradeoff 관계에 있다 둘 중에 어떤 걸 택할 건지는 상황에 맞춰서 선택해야 함"
   ]
  },
  {
   "cell_type": "code",
   "execution_count": 10,
   "metadata": {
    "collapsed": false,
    "nbpresent": {
     "id": "38fc6e27-2b48-464e-a52e-0970498a596e"
    }
   },
   "outputs": [
    {
     "data": {
      "text/plain": [
       "array([[53272,  1307],\n",
       "       [ 1077,  4344]])"
      ]
     },
     "execution_count": 10,
     "metadata": {},
     "output_type": "execute_result"
    }
   ],
   "source": [
    "from sklearn.model_selection import cross_val_predict\n",
    "y_train_pred = cross_val_predict(sgd_clf, X_train, y_train_5, cv = 3)\n",
    "from sklearn.metrics import confusion_matrix\n",
    "confusion_matrix(y_train_5, y_train_pred) \n",
    "# False인데 False인거(true negative), False인데 True인거(false positive), True인데 False인거(false negative), True인데 True(true positive) 인거 순서대로 "
   ]
  },
  {
   "cell_type": "code",
   "execution_count": 11,
   "metadata": {
    "collapsed": false,
    "nbpresent": {
     "id": "228cbfb3-e23b-4c67-b9c1-6a3c36bb5d54"
    }
   },
   "outputs": [
    {
     "data": {
      "text/plain": [
       "array([False, False, False, ..., False, False, False], dtype=bool)"
      ]
     },
     "execution_count": 11,
     "metadata": {},
     "output_type": "execute_result"
    }
   ],
   "source": [
    "y_train_pred"
   ]
  },
  {
   "cell_type": "code",
   "execution_count": 12,
   "metadata": {
    "collapsed": false,
    "nbpresent": {
     "id": "d7141d9e-fbf3-4df4-80be-fe378924b37b"
    }
   },
   "outputs": [
    {
     "data": {
      "text/plain": [
       "array([False, False, False, ..., False, False, False], dtype=bool)"
      ]
     },
     "execution_count": 12,
     "metadata": {},
     "output_type": "execute_result"
    }
   ],
   "source": [
    "y_train_5"
   ]
  },
  {
   "cell_type": "code",
   "execution_count": 13,
   "metadata": {
    "collapsed": false,
    "nbpresent": {
     "id": "688202bc-adf9-4c7c-bdec-5196046685c4"
    }
   },
   "outputs": [
    {
     "name": "stdout",
     "output_type": "stream",
     "text": [
      "0.768713502035\n",
      "0.801328168235\n"
     ]
    }
   ],
   "source": [
    "from sklearn.metrics import precision_score, recall_score\n",
    "print(precision_score(y_train_5, y_train_pred))\n",
    "print(recall_score(y_train_5, y_train_pred))"
   ]
  },
  {
   "cell_type": "code",
   "execution_count": 14,
   "metadata": {
    "collapsed": false,
    "nbpresent": {
     "id": "c7aee7b2-4efa-47a0-8a30-62817e688b7d"
    }
   },
   "outputs": [
    {
     "name": "stdout",
     "output_type": "stream",
     "text": [
      "0.784682080925\n"
     ]
    }
   ],
   "source": [
    "#F1 Score 도입해서 Precision, Recall 둘에 대해서 판단하고자 함. \n",
    "from sklearn.metrics import f1_score\n",
    "print(f1_score(y_train_5, y_train_pred))"
   ]
  },
  {
   "cell_type": "code",
   "execution_count": 15,
   "metadata": {
    "collapsed": false,
    "nbpresent": {
     "id": "8c6165e6-e9ce-4427-85f0-b1043715651e"
    }
   },
   "outputs": [],
   "source": [
    "y_scores = sgd_clf.decision_function([X[36000]])"
   ]
  },
  {
   "cell_type": "code",
   "execution_count": 16,
   "metadata": {
    "collapsed": false,
    "nbpresent": {
     "id": "1355e14c-4e38-4c89-9cd3-02e6aa2a8285"
    }
   },
   "outputs": [],
   "source": [
    "#Threshold 별로 precision, recall 구하기. \n",
    "y_scores = cross_val_predict(sgd_clf, X_train, y_train_5, cv = 3, method = 'decision_function') # 어떻게 구한 거지"
   ]
  },
  {
   "cell_type": "code",
   "execution_count": 17,
   "metadata": {
    "collapsed": false,
    "nbpresent": {
     "id": "f970cbee-5474-4441-bab3-6e0a8c682e6a"
    }
   },
   "outputs": [],
   "source": [
    "from sklearn.metrics import precision_recall_curve\n",
    "precisions, recalls, thresholds = precision_recall_curve(y_train_5, y_scores)"
   ]
  },
  {
   "cell_type": "code",
   "execution_count": 18,
   "metadata": {
    "collapsed": true,
    "nbpresent": {
     "id": "1c7c75ae-4b35-4191-8beb-27ae878d6cd0"
    }
   },
   "outputs": [],
   "source": [
    "def plot_precision_recall_vs_threshold(precisions, recalls, thresholds):\n",
    "    plt.plot(thresholds, precisions[:-1], \"b--\", label= 'Precision')\n",
    "    plt.plot(thresholds, recalls[:-1], 'g-', label = 'Recall')\n",
    "    plt.xlabel('Threshold')\n",
    "    plt.legend(loc = 'upper left')\n",
    "    plt.ylim([0,1])"
   ]
  },
  {
   "cell_type": "markdown",
   "metadata": {
    "nbpresent": {
     "id": "1821d4d8-5b52-49c9-afc3-b5fb43c70a80"
    }
   },
   "source": [
    "### Threshold는 구했는데 이거 어디다 쓰는거지 무슨 의미?"
   ]
  },
  {
   "cell_type": "code",
   "execution_count": 19,
   "metadata": {
    "collapsed": false,
    "nbpresent": {
     "id": "65504256-50a6-4fa0-9719-a4a1a3e8406d"
    }
   },
   "outputs": [
    {
     "data": {
      "image/png": "[encoded data removed]",
      "text/plain": [
       "<matplotlib.figure.Figure at 0x183e7e7c630>"
      ]
     },
     "metadata": {},
     "output_type": "display_data"
    }
   ],
   "source": [
    "plot_precision_recall_vs_threshold(precisions,recalls, thresholds)\n",
    "plt.show()"
   ]
  },
  {
   "cell_type": "code",
   "execution_count": 20,
   "metadata": {
    "collapsed": false,
    "nbpresent": {
     "id": "6f5b7354-238e-4ff3-b266-44c368154a21"
    }
   },
   "outputs": [
    {
     "data": {
      "text/plain": [
       "0.69931746910164172"
      ]
     },
     "execution_count": 20,
     "metadata": {},
     "output_type": "execute_result"
    }
   ],
   "source": [
    "y_train_pred_90 = (y_scores>70000)\n",
    "precision_score(y_train_5, y_train_pred_90)\n",
    "recall_score(y_train_5, y_train_pred_90)"
   ]
  },
  {
   "cell_type": "code",
   "execution_count": 21,
   "metadata": {
    "collapsed": false,
    "nbpresent": {
     "id": "7710893b-463b-4966-b908-a549f8e29eff"
    }
   },
   "outputs": [
    {
     "ename": "TypeError",
     "evalue": "precision_score() missing 2 required positional arguments: 'y_true' and 'y_pred'",
     "output_type": "error",
     "traceback": [
      "\u001b[0;31m---------------------------------------------------------------------------\u001b[0m",
      "\u001b[0;31mTypeError\u001b[0m                                 Traceback (most recent call last)",
      "\u001b[0;32m<ipython-input-21-41cd7af2fbb8>\u001b[0m in \u001b[0;36m<module>\u001b[0;34m()\u001b[0m\n\u001b[0;32m----> 1\u001b[0;31m \u001b[0mprecision_score\u001b[0m\u001b[1;33m(\u001b[0m\u001b[1;33m)\u001b[0m\u001b[1;33m\u001b[0m\u001b[0m\n\u001b[0m",
      "\u001b[0;31mTypeError\u001b[0m: precision_score() missing 2 required positional arguments: 'y_true' and 'y_pred'"
     ]
    }
   ],
   "source": [
    "precision_score()"
   ]
  },
  {
   "cell_type": "markdown",
   "metadata": {
    "collapsed": true,
    "nbpresent": {
     "id": "8f8eb2f2-9706-4480-8443-c83fe837612b"
    }
   },
   "source": [
    "### The ROC Curve"
   ]
  },
  {
   "cell_type": "code",
   "execution_count": 23,
   "metadata": {
    "collapsed": false,
    "nbpresent": {
     "id": "64e2075b-a2be-4893-82f2-740b41cb1635"
    }
   },
   "outputs": [],
   "source": [
    "from sklearn.metrics import roc_curve\n",
    "\n",
    "fpr, tpr, thresholds = roc_curve(y_train_5, y_scores)"
   ]
  },
  {
   "cell_type": "code",
   "execution_count": 25,
   "metadata": {
    "collapsed": false,
    "nbpresent": {
     "id": "5f8d105f-39e8-4dd1-a249-36bc0c481c17"
    }
   },
   "outputs": [
    {
     "data": {
      "text/plain": [
       "(3435,)"
      ]
     },
     "execution_count": 25,
     "metadata": {},
     "output_type": "execute_result"
    }
   ],
   "source": [
    "fpr.shape"
   ]
  },
  {
   "cell_type": "code",
   "execution_count": 26,
   "metadata": {
    "collapsed": false,
    "nbpresent": {
     "id": "316725a3-af9f-4777-a066-2564e61d1235"
    }
   },
   "outputs": [
    {
     "data": {
      "image/png": "[encoded data removed]",
      "text/plain": [
       "<matplotlib.figure.Figure at 0x183e7e7c080>"
      ]
     },
     "metadata": {},
     "output_type": "display_data"
    }
   ],
   "source": [
    "def plot_roc_curve(fpr, tpr, label = None):\n",
    "    plt.plot(fpr, tpr, linewidth = 2, label = label)\n",
    "    plt.plot([0,1],[0,1],'k--')\n",
    "    plt.axis([0,1,0,1])\n",
    "    plt.xlabel('False Positive Rate')\n",
    "    plt.ylabel('True Positive Rate')\n",
    "    \n",
    "plot_roc_curve(fpr, tpr)\n",
    "plt.show()"
   ]
  },
  {
   "cell_type": "code",
   "execution_count": null,
   "metadata": {
    "collapsed": true,
    "nbpresent": {
     "id": "795500ce-f168-47df-b5ef-757d5c3fe4ef"
    }
   },
   "outputs": [],
   "source": []
  }
 ],
 "metadata": {
  "anaconda-cloud": {},
  "kernelspec": {
   "display_name": "Python [conda env:py36]",
   "language": "python",
   "name": "conda-env-py36-py"
  },
  "language_info": {
   "codemirror_mode": {
    "name": "ipython",
    "version": 3
   },
   "file_extension": ".py",
   "mimetype": "text/x-python",
   "name": "python",
   "nbconvert_exporter": "python",
   "pygments_lexer": "ipython3",
   "version": "3.6.0"
  },
  "nbpresent": {
   "slides": {
    "078605da-843e-447e-9343-f5abcda6ddc8": {
     "id": "078605da-843e-447e-9343-f5abcda6ddc8",
     "prev": "e12b002f-791a-4009-b3cf-94fb3b3e5ec1",
     "regions": {
      "f872d25c-ac76-49f2-b27e-a8faa2bb7813": {
       "attrs": {
        "height": 0.8,
        "width": 0.8,
        "x": 0.1,
        "y": 0.1
       },
       "content": {
        "cell": "316725a3-af9f-4777-a066-2564e61d1235",
        "part": "whole"
       },
       "id": "f872d25c-ac76-49f2-b27e-a8faa2bb7813"
      }
     }
    },
    "3664f32b-ee44-4ac4-aeae-5a7a05d63412": {
     "id": "3664f32b-ee44-4ac4-aeae-5a7a05d63412",
     "prev": null,
     "regions": {
      "fcb70179-14de-463c-9c54-f9deb60d05d6": {
       "attrs": {
        "height": 0.8,
        "width": 0.8,
        "x": 0.1,
        "y": 0.1
       },
       "content": {
        "cell": "f970cbee-5474-4441-bab3-6e0a8c682e6a",
        "part": "whole"
       },
       "id": "fcb70179-14de-463c-9c54-f9deb60d05d6"
      }
     }
    },
    "45f885f5-96c5-4a91-9797-072ad24a16e3": {
     "id": "45f885f5-96c5-4a91-9797-072ad24a16e3",
     "prev": "c4e42081-03e7-46a8-9c5a-2c251e2b941a",
     "regions": {
      "3202c04d-b1c1-4e9c-ad1c-335a19cdd535": {
       "attrs": {
        "height": 0.8,
        "width": 0.8,
        "x": 0.1,
        "y": 0.1
       },
       "content": {
        "cell": "7710893b-463b-4966-b908-a549f8e29eff",
        "part": "whole"
       },
       "id": "3202c04d-b1c1-4e9c-ad1c-335a19cdd535"
      }
     }
    },
    "5ec02cfb-44a9-4f30-9cc7-612645e357bb": {
     "id": "5ec02cfb-44a9-4f30-9cc7-612645e357bb",
     "prev": "ef5fa9e3-4aa9-4030-806d-a5ec618e23e0",
     "regions": {
      "319b868e-0ce8-404e-860c-9718a7f54890": {
       "attrs": {
        "height": 0.8,
        "width": 0.8,
        "x": 0.1,
        "y": 0.1
       },
       "content": {
        "cell": "65504256-50a6-4fa0-9719-a4a1a3e8406d",
        "part": "whole"
       },
       "id": "319b868e-0ce8-404e-860c-9718a7f54890"
      }
     }
    },
    "b2484554-5d34-4b30-b3c2-ee453d2bac4b": {
     "id": "b2484554-5d34-4b30-b3c2-ee453d2bac4b",
     "prev": "45f885f5-96c5-4a91-9797-072ad24a16e3",
     "regions": {
      "db3ac6ac-3e2a-40a3-988b-982a3fbb3b54": {
       "attrs": {
        "height": 0.8,
        "width": 0.8,
        "x": 0.1,
        "y": 0.1
       },
       "content": {
        "cell": "8f8eb2f2-9706-4480-8443-c83fe837612b",
        "part": "whole"
       },
       "id": "db3ac6ac-3e2a-40a3-988b-982a3fbb3b54"
      }
     }
    },
    "b3081e97-3e9c-49bb-be17-d16e44eeacac": {
     "id": "b3081e97-3e9c-49bb-be17-d16e44eeacac",
     "prev": "3664f32b-ee44-4ac4-aeae-5a7a05d63412",
     "regions": {
      "074e5689-7407-47a2-a134-8e4555c16a31": {
       "attrs": {
        "height": 0.8,
        "width": 0.8,
        "x": 0.1,
        "y": 0.1
       },
       "content": {
        "cell": "1c7c75ae-4b35-4191-8beb-27ae878d6cd0",
        "part": "whole"
       },
       "id": "074e5689-7407-47a2-a134-8e4555c16a31"
      }
     }
    },
    "c4e42081-03e7-46a8-9c5a-2c251e2b941a": {
     "id": "c4e42081-03e7-46a8-9c5a-2c251e2b941a",
     "prev": "5ec02cfb-44a9-4f30-9cc7-612645e357bb",
     "regions": {
      "85073a77-be82-4590-aecb-7ed40a9320a0": {
       "attrs": {
        "height": 0.8,
        "width": 0.8,
        "x": 0.1,
        "y": 0.1
       },
       "content": {
        "cell": "6f5b7354-238e-4ff3-b266-44c368154a21",
        "part": "whole"
       },
       "id": "85073a77-be82-4590-aecb-7ed40a9320a0"
      }
     }
    },
    "c6917406-f3bf-408b-b539-8c94a1643481": {
     "id": "c6917406-f3bf-408b-b539-8c94a1643481",
     "prev": "078605da-843e-447e-9343-f5abcda6ddc8",
     "regions": {
      "d0e6a46b-8123-48c1-a840-2c326cbb6d5e": {
       "attrs": {
        "height": 0.8,
        "width": 0.8,
        "x": 0.1,
        "y": 0.1
       },
       "content": {
        "cell": "795500ce-f168-47df-b5ef-757d5c3fe4ef",
        "part": "whole"
       },
       "id": "d0e6a46b-8123-48c1-a840-2c326cbb6d5e"
      }
     }
    },
    "cd493b5b-9516-4d6f-ae0c-1115868cc2e8": {
     "id": "cd493b5b-9516-4d6f-ae0c-1115868cc2e8",
     "prev": "b2484554-5d34-4b30-b3c2-ee453d2bac4b",
     "regions": {
      "83700fa7-64f0-4114-aa29-332494c5a24c": {
       "attrs": {
        "height": 0.8,
        "width": 0.8,
        "x": 0.1,
        "y": 0.1
       },
       "content": {
        "cell": "64e2075b-a2be-4893-82f2-740b41cb1635",
        "part": "whole"
       },
       "id": "83700fa7-64f0-4114-aa29-332494c5a24c"
      }
     }
    },
    "e12b002f-791a-4009-b3cf-94fb3b3e5ec1": {
     "id": "e12b002f-791a-4009-b3cf-94fb3b3e5ec1",
     "prev": "cd493b5b-9516-4d6f-ae0c-1115868cc2e8",
     "regions": {
      "a4a4f752-874a-48a2-985a-95e77addf700": {
       "attrs": {
        "height": 0.8,
        "width": 0.8,
        "x": 0.1,
        "y": 0.1
       },
       "content": {
        "cell": "5f8d105f-39e8-4dd1-a249-36bc0c481c17",
        "part": "whole"
       },
       "id": "a4a4f752-874a-48a2-985a-95e77addf700"
      }
     }
    },
    "ef5fa9e3-4aa9-4030-806d-a5ec618e23e0": {
     "id": "ef5fa9e3-4aa9-4030-806d-a5ec618e23e0",
     "prev": "b3081e97-3e9c-49bb-be17-d16e44eeacac",
     "regions": {
      "c53e7c54-8c49-48ac-b089-d79a7e7d56d9": {
       "attrs": {
        "height": 0.8,
        "width": 0.8,
        "x": 0.1,
        "y": 0.1
       },
       "content": {
        "cell": "1821d4d8-5b52-49c9-afc3-b5fb43c70a80",
        "part": "whole"
       },
       "id": "c53e7c54-8c49-48ac-b089-d79a7e7d56d9"
      }
     }
    }
   },
   "themes": {}
  }
 },
 "nbformat": 4,
 "nbformat_minor": 1
}
