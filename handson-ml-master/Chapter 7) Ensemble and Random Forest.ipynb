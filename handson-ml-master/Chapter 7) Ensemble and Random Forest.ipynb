{
 "cells": [
  {
   "cell_type": "markdown",
   "metadata": {},
   "source": [
    "## Ensemble method"
   ]
  },
  {
   "cell_type": "code",
   "execution_count": 34,
   "metadata": {
    "collapsed": false
   },
   "outputs": [],
   "source": [
    "from sklearn.ensemble import RandomForestClassifier\n",
    "from sklearn.ensemble import VotingClassifier\n",
    "from sklearn.linear_model import LogisticRegression\n",
    "from sklearn.svm import SVC\n",
    "from sklearn.model_selection import train_test_split\n",
    "\n",
    "from sklearn.datasets import make_moons"
   ]
  },
  {
   "cell_type": "code",
   "execution_count": 39,
   "metadata": {
    "collapsed": false
   },
   "outputs": [],
   "source": [
    "X, y = make_moons(n_samples=500, noise=0.30, random_state=42)\n",
    "X_train, X_test, y_train, y_test = train_test_split(X, y, random_state=42)\n",
    "\n",
    "log_clf = LogisticRegression(random_state = 42)\n",
    "rnd_clf = RandomForestClassifier(random_state = 42)\n",
    "svm_clf = SVC(random_state = 42, probability = True)\n",
    "\n",
    "voting_clf = VotingClassifier([('lr', log_clf), ('rnd', rnd_clf), ('svm', svm_clf)], voting = 'soft')"
   ]
  },
  {
   "cell_type": "code",
   "execution_count": 40,
   "metadata": {
    "collapsed": false
   },
   "outputs": [
    {
     "name": "stdout",
     "output_type": "stream",
     "text": [
      "log : 0.864\n",
      "rnd : 0.872\n",
      "svm : 0.888\n",
      "voting : 0.912\n"
     ]
    }
   ],
   "source": [
    "log_clf.fit(X_train, y_train)\n",
    "rnd_clf.fit(X_train, y_train)\n",
    "svm_clf.fit(X_train, y_train)\n",
    "voting_clf.fit(X_train, y_train)\n",
    "print('log :', log_clf.score(X_test, y_test))\n",
    "print('rnd :', rnd_clf.score(X_test, y_test))\n",
    "print('svm :', svm_clf.score(X_test, y_test))\n",
    "print('voting :', voting_clf.score(X_test, y_test))"
   ]
  },
  {
   "cell_type": "markdown",
   "metadata": {},
   "source": [
    "## Bagging and Pasting \n",
    "- Bagging : Replacement (복원 추출)\n",
    "- Pasting : Non-replacement (비복원 추출)"
   ]
  },
  {
   "cell_type": "code",
   "execution_count": 49,
   "metadata": {
    "collapsed": false
   },
   "outputs": [
    {
     "name": "stdout",
     "output_type": "stream",
     "text": [
      "0.92\n",
      "0.84\n"
     ]
    }
   ],
   "source": [
    "from sklearn.ensemble import BaggingClassifier\n",
    "from sklearn.tree import DecisionTreeClassifier\n",
    "\n",
    "#100개 Random 비복원추출하는 방식으로 500번에 대해 각각 Training 시킨 후 Aggregate 진행한다. \n",
    "#Soft Voting(Default) | Hard Voting\n",
    "bag_clf = BaggingClassifier(\n",
    "            DecisionTreeClassifier(), n_estimators = 500, \n",
    "            max_samples = 100, bootstrap = True, n_jobs = -1, oob_score = True)\n",
    "\n",
    "bag_clf.fit(X_train, y_train)\n",
    "print(bag_clf.score(X_test, y_test))\n",
    "\n",
    "tree_clf = DecisionTreeClassifier()\n",
    "tree_clf.fit(X_train, y_train)\n",
    "print(tree_clf.score(X_test, y_test))"
   ]
  },
  {
   "cell_type": "code",
   "execution_count": 50,
   "metadata": {
    "collapsed": false
   },
   "outputs": [
    {
     "data": {
      "text/plain": [
       "0.92266666666666663"
      ]
     },
     "execution_count": 50,
     "metadata": {},
     "output_type": "execute_result"
    }
   ],
   "source": [
    "bag_clf.oob_score_"
   ]
  },
  {
   "cell_type": "markdown",
   "metadata": {},
   "source": [
    "## Random Forest\n",
    "-. Decision tree 방법으로, Bagging 을 사용해서 복원 추출 Sampling으로 진행한 다음에 각각에 대해 Training, \n",
    "그리고 나온 결과들로 soft voting 진행 "
   ]
  },
  {
   "cell_type": "code",
   "execution_count": null,
   "metadata": {
    "collapsed": true
   },
   "outputs": [],
   "source": []
  }
 ],
 "metadata": {
  "anaconda-cloud": {},
  "kernelspec": {
   "display_name": "Python [conda root]",
   "language": "python",
   "name": "conda-root-py"
  },
  "language_info": {
   "codemirror_mode": {
    "name": "ipython",
    "version": 3
   },
   "file_extension": ".py",
   "mimetype": "text/x-python",
   "name": "python",
   "nbconvert_exporter": "python",
   "pygments_lexer": "ipython3",
   "version": "3.5.2"
  }
 },
 "nbformat": 4,
 "nbformat_minor": 1
}
